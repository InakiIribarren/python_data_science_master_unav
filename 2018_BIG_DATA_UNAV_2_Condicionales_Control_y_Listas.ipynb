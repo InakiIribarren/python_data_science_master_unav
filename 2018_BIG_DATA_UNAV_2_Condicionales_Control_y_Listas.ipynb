{
 "cells": [
  {
   "cell_type": "markdown",
   "metadata": {},
   "source": [
    "---\n",
    "# Experto Big Data UNAV 2018 - Notebook 2 - Condicionales y Control\n",
    "---"
   ]
  },
  {
   "cell_type": "markdown",
   "metadata": {},
   "source": [
    "# Tipos"
   ]
  },
  {
   "cell_type": "markdown",
   "metadata": {},
   "source": [
    "Para conocer el tipo de una variable se usa la funcion _type_."
   ]
  },
  {
   "cell_type": "code",
   "execution_count": null,
   "metadata": {
    "collapsed": true
   },
   "outputs": [],
   "source": [
    "print(type(5))\n",
    "print(type(5.5))\n",
    "print(type('aa'))\n",
    "print(type(True))"
   ]
  },
  {
   "cell_type": "markdown",
   "metadata": {},
   "source": [
    "Si queremos comprobar si una variable es de un tipo determinado se utiliza la funcion _type_ seguida de la palabra _is_ y el tipo. El resultado es el obtenido de evaluar la expresion y retorna True o False."
   ]
  },
  {
   "cell_type": "code",
   "execution_count": null,
   "metadata": {
    "collapsed": true
   },
   "outputs": [],
   "source": [
    "print(type(5)) is int\n",
    "print(type(5.5)) is float\n",
    "print(type('aa')) is str\n",
    "print(type(True)) is bool\n",
    "print(5*'-')\n",
    "print(type(5)) is float\n",
    "print(type(5.5)) is int\n",
    "print(type('aa')) is bool\n",
    "print(type(True)) is str"
   ]
  },
  {
   "cell_type": "markdown",
   "metadata": {},
   "source": [
    "# Tests logicos"
   ]
  },
  {
   "cell_type": "markdown",
   "metadata": {},
   "source": [
    "### Igualdad"
   ]
  },
  {
   "cell_type": "markdown",
   "metadata": {},
   "source": [
    "Dos elementos son *iguales* si contienen el mismo valor. Se puede chequear la igualdad entre numeros, cadenas y otras estructuras que aprenderemos mas adelante.\n",
    "\n",
    "En Python dos signos igual == chequea la igualdad.\n",
    "\n",
    "**Cuidado!** Si accidentalmente usas un signo igual en vez de dos, porque estaras ejecutando el operador de asignacion."
   ]
  },
  {
   "cell_type": "code",
   "execution_count": null,
   "metadata": {
    "collapsed": true
   },
   "outputs": [],
   "source": [
    "5 == 5"
   ]
  },
  {
   "cell_type": "code",
   "execution_count": null,
   "metadata": {
    "collapsed": true
   },
   "outputs": [],
   "source": [
    "3 == 5 "
   ]
  },
  {
   "cell_type": "code",
   "execution_count": null,
   "metadata": {
    "collapsed": true
   },
   "outputs": [],
   "source": [
    "5 == 5.0"
   ]
  },
  {
   "cell_type": "code",
   "execution_count": null,
   "metadata": {
    "collapsed": true
   },
   "outputs": [],
   "source": [
    "'juan' == 'juan'"
   ]
  },
  {
   "cell_type": "code",
   "execution_count": null,
   "metadata": {
    "collapsed": true
   },
   "outputs": [],
   "source": [
    "'Juan' == 'juan'"
   ]
  },
  {
   "cell_type": "code",
   "execution_count": null,
   "metadata": {
    "collapsed": true
   },
   "outputs": [],
   "source": [
    "'Juan'.lower() == 'juan'.lower()"
   ]
  },
  {
   "cell_type": "code",
   "execution_count": null,
   "metadata": {
    "collapsed": true
   },
   "outputs": [],
   "source": [
    "'5' == 5"
   ]
  },
  {
   "cell_type": "code",
   "execution_count": null,
   "metadata": {
    "collapsed": true
   },
   "outputs": [],
   "source": [
    "'5' == str(5)"
   ]
  },
  {
   "cell_type": "markdown",
   "metadata": {},
   "source": [
    "### No igual"
   ]
  },
  {
   "cell_type": "markdown",
   "metadata": {},
   "source": [
    "Tambien se puede chequear si un elemento es diferente a otro a traves del operador no igual representado por un signo de exclamacion seguido de un signo igual !=. Dos elementos son diferentes si sus valores son diferentes."
   ]
  },
  {
   "cell_type": "code",
   "execution_count": null,
   "metadata": {
    "collapsed": true
   },
   "outputs": [],
   "source": [
    "3 != 5"
   ]
  },
  {
   "cell_type": "code",
   "execution_count": null,
   "metadata": {
    "collapsed": true
   },
   "outputs": [],
   "source": [
    "5 != 5"
   ]
  },
  {
   "cell_type": "code",
   "execution_count": null,
   "metadata": {
    "collapsed": true
   },
   "outputs": [],
   "source": [
    "'Juan' != 'juan'"
   ]
  },
  {
   "cell_type": "markdown",
   "metadata": {},
   "source": [
    "### Otros test logicos"
   ]
  },
  {
   "cell_type": "markdown",
   "metadata": {},
   "source": [
    "mayor que..."
   ]
  },
  {
   "cell_type": "code",
   "execution_count": null,
   "metadata": {
    "collapsed": true
   },
   "outputs": [],
   "source": [
    "10 > 3"
   ]
  },
  {
   "cell_type": "code",
   "execution_count": null,
   "metadata": {
    "collapsed": true
   },
   "outputs": [],
   "source": [
    "-5 > 1"
   ]
  },
  {
   "cell_type": "markdown",
   "metadata": {},
   "source": [
    "mayor o igual que..."
   ]
  },
  {
   "cell_type": "code",
   "execution_count": null,
   "metadata": {
    "collapsed": true
   },
   "outputs": [],
   "source": [
    "10 >= 10"
   ]
  },
  {
   "cell_type": "markdown",
   "metadata": {},
   "source": [
    "menor que..."
   ]
  },
  {
   "cell_type": "code",
   "execution_count": null,
   "metadata": {
    "collapsed": true
   },
   "outputs": [],
   "source": [
    "7 < 8"
   ]
  },
  {
   "cell_type": "code",
   "execution_count": null,
   "metadata": {
    "collapsed": true
   },
   "outputs": [],
   "source": [
    "99 < 66"
   ]
  },
  {
   "cell_type": "markdown",
   "metadata": {},
   "source": [
    "menor o igual que..."
   ]
  },
  {
   "cell_type": "code",
   "execution_count": null,
   "metadata": {
    "collapsed": true
   },
   "outputs": [],
   "source": [
    "3 <= 3"
   ]
  },
  {
   "cell_type": "markdown",
   "metadata": {},
   "source": [
    "chequeando si un elemento esta en una lista"
   ]
  },
  {
   "cell_type": "code",
   "execution_count": null,
   "metadata": {
    "collapsed": true
   },
   "outputs": [],
   "source": [
    "lista = [1, 2, 3, 4]\n",
    "1 in lista"
   ]
  },
  {
   "cell_type": "code",
   "execution_count": null,
   "metadata": {
    "collapsed": true
   },
   "outputs": [],
   "source": [
    "5 in lista"
   ]
  },
  {
   "cell_type": "code",
   "execution_count": null,
   "metadata": {
    "collapsed": true
   },
   "outputs": [],
   "source": [
    "lista = ['juan', 'ana']\n",
    "'juan' in lista"
   ]
  },
  {
   "cell_type": "markdown",
   "metadata": {},
   "source": [
    "chequeando si un caracter esta en una cadena"
   ]
  },
  {
   "cell_type": "code",
   "execution_count": null,
   "metadata": {
    "collapsed": true
   },
   "outputs": [],
   "source": [
    "'a' in 'juan'"
   ]
  },
  {
   "cell_type": "markdown",
   "metadata": {},
   "source": [
    "chequeando si una variable es de un tipo concreto"
   ]
  },
  {
   "cell_type": "code",
   "execution_count": null,
   "metadata": {
    "collapsed": true
   },
   "outputs": [],
   "source": [
    "type(5) is int"
   ]
  },
  {
   "cell_type": "code",
   "execution_count": null,
   "metadata": {
    "collapsed": true
   },
   "outputs": [],
   "source": [
    "type('hola') is str"
   ]
  },
  {
   "cell_type": "code",
   "execution_count": null,
   "metadata": {
    "collapsed": true
   },
   "outputs": [],
   "source": [
    "type(6.5) is float"
   ]
  },
  {
   "cell_type": "markdown",
   "metadata": {},
   "source": [
    "# Control"
   ]
  },
  {
   "cell_type": "markdown",
   "metadata": {},
   "source": [
    "## Condicional IF"
   ]
  },
  {
   "cell_type": "markdown",
   "metadata": {},
   "source": [
    "La sentencia _if_ evalua basicamente una operación logica, es decir una expresión que de como resultado verdadero o false (true o false), y ejecuta la pieza de codigo siguiente siempre y cuando el resultado sea verdadero."
   ]
  },
  {
   "cell_type": "code",
   "execution_count": null,
   "metadata": {
    "collapsed": true
   },
   "outputs": [],
   "source": [
    "a = 15\n",
    "if a > 10:\n",
    "    print('a es mayor que 7')"
   ]
  },
  {
   "cell_type": "code",
   "execution_count": 5,
   "metadata": {
    "collapsed": true
   },
   "outputs": [],
   "source": [
    "if a > 20:\n",
    "    print('a es mayor que 20')"
   ]
  },
  {
   "cell_type": "code",
   "execution_count": null,
   "metadata": {
    "collapsed": true
   },
   "outputs": [],
   "source": [
    "if True:\n",
    "    print('Es verdadero')\n",
    "\n",
    "if False:\n",
    "    print('Es falso')"
   ]
  },
  {
   "cell_type": "code",
   "execution_count": null,
   "metadata": {
    "collapsed": true
   },
   "outputs": [],
   "source": [
    "# resolucion de ecuacion de primer grado ax + b = 0\n",
    "a = 2\n",
    "b = 4\n",
    "x = -b / a\n",
    "print(x)"
   ]
  },
  {
   "cell_type": "markdown",
   "metadata": {},
   "source": [
    "Que ocurre al ejecutar el codigo siguiente? Lee bien e interpreta el mensaje de error."
   ]
  },
  {
   "cell_type": "code",
   "execution_count": null,
   "metadata": {
    "collapsed": true
   },
   "outputs": [],
   "source": [
    "a = 0\n",
    "b = 4\n",
    "x = -b / a\n",
    "print(x)"
   ]
  },
  {
   "cell_type": "markdown",
   "metadata": {},
   "source": [
    "La sentencia _if_ nos permite corregir la situacion."
   ]
  },
  {
   "cell_type": "code",
   "execution_count": 10,
   "metadata": {
    "collapsed": true
   },
   "outputs": [],
   "source": [
    "a = 0\n",
    "b = 4\n",
    "if a != 0:\n",
    "    x = -b / a\n",
    "    print(x)"
   ]
  },
  {
   "cell_type": "markdown",
   "metadata": {},
   "source": [
    "Se pueden combinar expresiones y lo que se evalua es si su resultado es _True_."
   ]
  },
  {
   "cell_type": "code",
   "execution_count": null,
   "metadata": {
    "collapsed": true
   },
   "outputs": [],
   "source": [
    "a = 0\n",
    "b = 50\n",
    "if a != 0 and b < 100:\n",
    "    x = -b / a\n",
    "    print(x)"
   ]
  },
  {
   "cell_type": "code",
   "execution_count": null,
   "metadata": {
    "collapsed": true
   },
   "outputs": [],
   "source": [
    "a = 0\n",
    "b = 100\n",
    "if a != 0 and b < 100:\n",
    "    x = -b / a\n",
    "    print(x)"
   ]
  },
  {
   "cell_type": "markdown",
   "metadata": {},
   "source": [
    "## Condicional IF ELSE"
   ]
  },
  {
   "cell_type": "markdown",
   "metadata": {},
   "source": [
    "El utilizar else lo que hace es que podamos tener la capacidad de ejecutar un codigo alternativo en caso de que el resultado logico de la expresion evaluada sea falso. Esta es una forma de tener varias alternativas de codigo a ejecutar. El uso con un ejemplo seria el siguiente."
   ]
  },
  {
   "cell_type": "code",
   "execution_count": 10,
   "metadata": {
    "collapsed": true
   },
   "outputs": [],
   "source": [
    "a = 10\n",
    " \n",
    "if a  !=  10 :\n",
    "    print(\"La variable es diferente de 10!\")\n",
    "else:\n",
    "    print(\"La variable es igual a 10!\")\n",
    "print('fin')"
   ]
  },
  {
   "cell_type": "code",
   "execution_count": null,
   "metadata": {
    "collapsed": true
   },
   "outputs": [],
   "source": [
    "a = 3.14\n",
    " \n",
    "if a  !=  10 :\n",
    "    print(\"La variable es diferente de 10!\")\n",
    "else:\n",
    "    print(\"La variable es igual a 10!\")\n",
    "print('fin')"
   ]
  },
  {
   "cell_type": "markdown",
   "metadata": {},
   "source": [
    "Se pueden combinar expresiones logicas y lo que se evalua es si su resultado es _True_."
   ]
  },
  {
   "cell_type": "code",
   "execution_count": null,
   "metadata": {
    "collapsed": true
   },
   "outputs": [],
   "source": [
    "a = 5\n",
    "b = 8\n",
    "if a > 5 and b > 10:\n",
    "    print('pass')\n",
    "else:\n",
    "    print('fail')"
   ]
  },
  {
   "cell_type": "code",
   "execution_count": null,
   "metadata": {
    "collapsed": true
   },
   "outputs": [],
   "source": [
    "a = 5\n",
    "b = 8\n",
    "if a >= 5 or b > 10:\n",
    "    print('pass')\n",
    "else:\n",
    "    print('fail')"
   ]
  },
  {
   "cell_type": "markdown",
   "metadata": {},
   "source": [
    "## Condicional IF ELIF"
   ]
  },
  {
   "cell_type": "markdown",
   "metadata": {},
   "source": [
    "A veces hay más de dos posibilidades y necesitamos más de dos ramas. Una forma de expresar tal cómputo es una expresion condicional encadenada."
   ]
  },
  {
   "cell_type": "code",
   "execution_count": null,
   "metadata": {
    "collapsed": true
   },
   "outputs": [],
   "source": [
    "x = 0\n",
    "y = 2\n",
    "if x < y:\n",
    "    print(x, \"es menor que\", y)\n",
    "elif x > y:\n",
    "    print(x, \"es mayor que\", y)\n",
    "else:\n",
    "    print(x, \"y\", y, \"son iguales\")"
   ]
  },
  {
   "cell_type": "markdown",
   "metadata": {},
   "source": [
    "_elif_ es una abreviatura de “else if”. De nuevo, sólo se ejecutará una rama. No hay límite al número de sentencias _elif_, pero sólo se permite una sentencia else (que es opcional) y debe ser la última rama de la sentencia."
   ]
  },
  {
   "cell_type": "code",
   "execution_count": null,
   "metadata": {
    "collapsed": true
   },
   "outputs": [],
   "source": [
    "eleccion = 'b'\n",
    "a = b = c = 1\n",
    "if eleccion == 'a':\n",
    "    print(a)\n",
    "elif eleccion == 'b':\n",
    "    print(b)\n",
    "elif eleccion == 'c':\n",
    "    print(c)\n",
    "else:\n",
    "    print(\"Elección inválida.\")"
   ]
  },
  {
   "cell_type": "code",
   "execution_count": null,
   "metadata": {
    "collapsed": true
   },
   "outputs": [],
   "source": [
    "primero = 'Ensalada'\n",
    "\n",
    "if primero == 'Ensalada':\n",
    "    print('Ensalada')\n",
    "elif primero == 'Sopa':\n",
    "    print('Sopa')\n",
    "elif primero == 'Alubia Verde':\n",
    "    print('Alubia Verde')\n",
    "else:\n",
    "    print(\"Elección inválida.\")"
   ]
  },
  {
   "cell_type": "markdown",
   "metadata": {},
   "source": [
    "# Listas"
   ]
  },
  {
   "cell_type": "markdown",
   "metadata": {},
   "source": [
    "Una lista es una coleccion de valores que se almacena en una variable. Los valores deberian estar relacionados entre si de alguna manera aunque no hay restricciones de lo que se puede almacenar en una lista. La lista se designa poniendo elementos entre corchetes y separados por coma."
   ]
  },
  {
   "cell_type": "code",
   "execution_count": null,
   "metadata": {
    "collapsed": true
   },
   "outputs": [],
   "source": [
    "a = [1, 2, 3]\n",
    "print(a)\n",
    "print(type(a)) # tambien podemos imprimir y ver que a es tipo lista"
   ]
  },
  {
   "cell_type": "markdown",
   "metadata": {},
   "source": [
    "Python nos permite definir colecciones de valores de cualquier tipo. Por ejemplo, podemos definir secuencias de numeros enteros o flotantes, o incluso de cadenas. Hablamos entonces de listas. En una lista podemos, por ejemplo, registrar las notas de los estudiantes de una clase, la evolucion de la temperatura hora a hora, los coeficientes de un polinomio, la relacion de nombres de personas asistentes a una reunion..."
   ]
  },
  {
   "cell_type": "code",
   "execution_count": null,
   "metadata": {
    "collapsed": true
   },
   "outputs": [],
   "source": [
    "nombres = ['Juan', 'Ana', 'Luis', 'Maria']\n",
    "print(nombres)"
   ]
  },
  {
   "cell_type": "markdown",
   "metadata": {},
   "source": [
    "Y tambien podemos usar expresiones para calcular el valor de cada elemento de una lista."
   ]
  },
  {
   "cell_type": "code",
   "execution_count": null,
   "metadata": {
    "collapsed": true
   },
   "outputs": [],
   "source": [
    "a = [1, 1+1, 6/2]\n",
    "print(a)"
   ]
  },
  {
   "cell_type": "markdown",
   "metadata": {},
   "source": [
    "Una lista puede tener elementos de diferentes tipos"
   ]
  },
  {
   "cell_type": "code",
   "execution_count": 15,
   "metadata": {},
   "outputs": [
    {
     "name": "stdout",
     "output_type": "stream",
     "text": [
      "['Jose', 1.85, 80, 'Carmen', 1.65, 50]\n",
      "<class 'list'>\n",
      "<class 'str'>\n",
      "<class 'float'>\n"
     ]
    }
   ],
   "source": [
    "# esta lista contiene nombre, altura y peso\n",
    "a = ['Jose', 1.85, 80, 'Carmen', 1.65, 50]\n",
    "print(a)\n",
    "print(type(a))\n",
    "\n",
    "print(type(a[0]))\n",
    "print(type(a[1]))"
   ]
  },
  {
   "cell_type": "markdown",
   "metadata": {},
   "source": [
    "## Indexacion"
   ]
  },
  {
   "cell_type": "markdown",
   "metadata": {},
   "source": [
    "**Acceso a los elementos de una lista**"
   ]
  },
  {
   "cell_type": "markdown",
   "metadata": {},
   "source": [
    "Se puede acceder de forma individual a los elementos de una lista utilizando el operador de indexación. Se accede encerrando entre corchetes el elemento al que se quiere acceder. Si a es una lista, a[i] es el elemento que ocupa la posición i+ 1. El primer elemento empieza en el índice 0 y el ultimo se almacena en n-1 donde n es el numero de elementos de la lista."
   ]
  },
  {
   "cell_type": "code",
   "execution_count": 19,
   "metadata": {},
   "outputs": [
    {
     "name": "stdout",
     "output_type": "stream",
     "text": [
      "juan\n",
      "maria\n"
     ]
    }
   ],
   "source": [
    "nombres = ['juan', 'ana', 'luis', 'maria']\n",
    "print(nombres[0]) # accede al primer elemento de la lista\n",
    "print(nombres[3]) # accede al ultimo elemento de la lista"
   ]
  },
  {
   "cell_type": "code",
   "execution_count": 20,
   "metadata": {},
   "outputs": [
    {
     "name": "stdout",
     "output_type": "stream",
     "text": [
      "Juan\n"
     ]
    }
   ],
   "source": [
    "nombre = nombres[0]\n",
    "print(nombre.title())"
   ]
  },
  {
   "cell_type": "markdown",
   "metadata": {},
   "source": [
    "Acceso a un indice mayor que n-1 nos dara un error."
   ]
  },
  {
   "cell_type": "code",
   "execution_count": 27,
   "metadata": {},
   "outputs": [
    {
     "name": "stdout",
     "output_type": "stream",
     "text": [
      "4\n",
      "maria\n"
     ]
    }
   ],
   "source": [
    "i=len(nombre)\n",
    "print(i)\n",
    "print(nombres[len(nombre)-1]) # esto genera un error index out of range"
   ]
  },
  {
   "cell_type": "markdown",
   "metadata": {},
   "source": [
    "**Acceso desde los ultimos elementos de una lista**"
   ]
  },
  {
   "cell_type": "markdown",
   "metadata": {},
   "source": [
    "En el caso anterior puedes ver como para acceder al ultimo elemento de la lista utilizariamos el indice 3. Esto funciona bien porque la lista tiene exactamente 4 elementos. Si queremos acceder al ultimo elemento sin necesidad de saber la longitud de la lista podemos usar el indice -1."
   ]
  },
  {
   "cell_type": "code",
   "execution_count": 22,
   "metadata": {},
   "outputs": [
    {
     "name": "stdout",
     "output_type": "stream",
     "text": [
      "maria\n"
     ]
    }
   ],
   "source": [
    "print(nombres[-1]) # accede al ultimo elemento de la lista"
   ]
  },
  {
   "cell_type": "markdown",
   "metadata": {},
   "source": [
    "Esta sintaxis funciona para el ultimo, el penultimo y todos los demas."
   ]
  },
  {
   "cell_type": "code",
   "execution_count": 18,
   "metadata": {},
   "outputs": [
    {
     "ename": "NameError",
     "evalue": "name 'nombres' is not defined",
     "output_type": "error",
     "traceback": [
      "\u001b[1;31m---------------------------------------------------------------------------\u001b[0m",
      "\u001b[1;31mNameError\u001b[0m                                 Traceback (most recent call last)",
      "\u001b[1;32m<ipython-input-18-7f7d9c7c0fec>\u001b[0m in \u001b[0;36m<module>\u001b[1;34m()\u001b[0m\n\u001b[1;32m----> 1\u001b[1;33m \u001b[0mprint\u001b[0m\u001b[1;33m(\u001b[0m\u001b[0mnombres\u001b[0m\u001b[1;33m[\u001b[0m\u001b[1;33m-\u001b[0m\u001b[1;36m3\u001b[0m\u001b[1;33m]\u001b[0m\u001b[1;33m)\u001b[0m \u001b[1;31m# accede al antepenultimo elemento de la lista\u001b[0m\u001b[1;33m\u001b[0m\u001b[0m\n\u001b[0m\u001b[0;32m      2\u001b[0m \u001b[0mprint\u001b[0m\u001b[1;33m(\u001b[0m\u001b[0mnombres\u001b[0m\u001b[1;33m[\u001b[0m\u001b[1;33m-\u001b[0m\u001b[1;36m4\u001b[0m\u001b[1;33m]\u001b[0m\u001b[1;33m)\u001b[0m \u001b[1;31m# accede al cuarto elemento de la lista por la cola\u001b[0m\u001b[1;33m\u001b[0m\u001b[0m\n",
      "\u001b[1;31mNameError\u001b[0m: name 'nombres' is not defined"
     ]
    }
   ],
   "source": [
    "print(nombres[-3]) # accede al antepenultimo elemento de la lista\n",
    "print(nombres[-4]) # accede al cuarto elemento de la lista por la cola"
   ]
  },
  {
   "cell_type": "markdown",
   "metadata": {},
   "source": [
    "De igual forma al acceso con indice positivo, si accedemos negativo menor que la longitud de la lista (n) nos dara un error."
   ]
  },
  {
   "cell_type": "code",
   "execution_count": null,
   "metadata": {
    "collapsed": true
   },
   "outputs": [],
   "source": [
    "print(nombres[-8]) # esto genera un error index out of range"
   ]
  },
  {
   "cell_type": "markdown",
   "metadata": {},
   "source": [
    "# Listas y el bucle *for-in*"
   ]
  },
  {
   "cell_type": "markdown",
   "metadata": {},
   "source": [
    "Este es sin duda uno de los conceptos mas importantes relacionados con listas. Imagina que tienes una lista con mil elementos y que en tres lineas de codigo puedes escribir una orden para esos mil elementos. Este es un concepto vital dentro de la programacion y ese necesario que tomes tu tiempo para entender bien esta seccion.  \n",
    "\n",
    "Utilizamos un bucle *for-in* para recorrer todos los elementos de una lista. Un bucle es un trozo de codigo que se repite hasta que se le acaban todos los elementos que tiene para trabajar con el o hasta que una condicion se cumple. Es este caso, nuestro bucle recorrerar todos los elementos de una lista. Para una lista con cinco elementos, el bucle se ejecutara cinco veces. Vamos a ver como funciona."
   ]
  },
  {
   "cell_type": "code",
   "execution_count": null,
   "metadata": {
    "collapsed": true
   },
   "outputs": [],
   "source": [
    "nombres = ['juan', 'ana', 'luis']\n",
    "\n",
    "for nombre in nombres:\n",
    "    print(nombre)"
   ]
  },
  {
   "cell_type": "markdown",
   "metadata": {},
   "source": [
    "Hemos visto como crear una lista, de forma que ahora intentaremos entender las dos ultimas lineas de codigo. Estas dos lineas hacen un bucle (o loop), vamos a analizar lo que ocurre aqui:\n",
    "\n",
    "    for nombre in nombres:\n",
    "\n",
    "- La palabra clave \"for\" dice a Python que se prepare para un bucle.\n",
    "- La variable \"nombre\", sin \"s\", es una variable temporal donde Python asignara cada elemento de la lista en cada iteracion del bucle.\n",
    "- La primera vez que pase el bucle, el valor de \"nombre\" sera 'juan'.\n",
    "- La segunda vez que pase el bucle, el valor de \"nombre\" sera 'ana'.\n",
    "- La tercera vez que pase el bucle, el valor de \"nombre\" sera 'luis'.\n",
    "- Despues de esto, no hay mas elementos en la lista y el bucle terminara\n",
    "\n",
    "La web <a href=\"http://pythontutor.com/visualize.html#code=nombres+%3D+%5B'juan',+'ana',+'luis'%5D%0A%0Afor+nombre+in+nombres%3A%0A++++print(nombre)&mode=display&cumulative=false&heapPrimitives=false&drawParentPointers=false&textReferences=false&showOnlyOutputs=false&py=3&curInstr=0\">pythontutor.com</a> permite ejecutar codigo Python linea por linea. A medida que el codigo se ejecuta hay una visualizacion en la pantalla que muestra como la variable \"nombre\" contiene los diferentes valores a medida que el bucle progresa. Haz click en Forward y observa como se ejecuta el codigo paso a paso.\n",
    "\n",
    "### Haciendo mas cosas\n",
    "\n",
    "Podemos hacer lo que queramos con el valor de \"nombre\" dentro del bucle. En este caso, por ejemplo solo lo imprimimos.\n",
    "\n",
    "    print(nombre)\n",
    "    \n",
    "Las acciones no se limitan a solo imprimir la palabra \"nombre\". Podemos hacer lo que queramos con el valor y esto sera ejecutado para cada elemento de la lista. Vamos a jugar con cada uno de los nombres de nuestra lista."
   ]
  },
  {
   "cell_type": "code",
   "execution_count": 29,
   "metadata": {},
   "outputs": [
    {
     "name": "stdout",
     "output_type": "stream",
     "text": [
      "['juan', 'ana', 'luis', 'maria']\n",
      "Eres amigo de juan?.\n",
      "Eres amigo de ana?.\n",
      "Eres amigo de luis?.\n",
      "Eres amigo de maria?.\n"
     ]
    }
   ],
   "source": [
    "nombres\n",
    "print(nombres)\n",
    "for nombre in nombres:\n",
    "    print('Eres amigo de ' + nombre + '?.')"
   ]
  },
  {
   "cell_type": "markdown",
   "metadata": {},
   "source": [
    "Copia el codigo anterior y visualiza su ejecucion en <a href=\"http://pythontutor.com/visualize.html#mode=edit\">pythontutor</a> haciendo click en 'Visualize Execution'.\n",
    "\n",
    "### Dentro y fuera del bucle\n",
    "\n",
    "Python usa la indentacion para decidir que hay dentro del bucle y que esta fuera de el. El codigo dentro del bucle se ejecutara para cada elemento de la lista. El codigo que no esta indentado, se ejecutara al terminar el bucle una sola vez."
   ]
  },
  {
   "cell_type": "code",
   "execution_count": 30,
   "metadata": {},
   "outputs": [
    {
     "name": "stdout",
     "output_type": "stream",
     "text": [
      "Eres amigo de juan?.\n",
      "Si soy amigo de juan.\n",
      "\n",
      "Eres amigo de ana?.\n",
      "Si soy amigo de ana.\n",
      "\n",
      "Eres amigo de luis?.\n",
      "Si soy amigo de luis.\n",
      "\n",
      "Eres amigo de todo el mundo!.\n"
     ]
    }
   ],
   "source": [
    "nombres = ['juan', 'ana', 'luis']\n",
    "\n",
    "for nombre in nombres:\n",
    "    print('Eres amigo de ' + nombre + '?.')\n",
    "    print('Si soy amigo de ' + nombre + '.\\n')\n",
    "print('Eres amigo de todo el mundo!.')"
   ]
  },
  {
   "cell_type": "markdown",
   "metadata": {},
   "source": [
    "La ultima linea solo se ejecuta una vez, cuando el bucle termina."
   ]
  },
  {
   "cell_type": "markdown",
   "metadata": {},
   "source": [
    "### Enumerando una lista\n",
    "\n",
    "Cuando estas recorriendo un lista a traves de un bucle, te puede interesar el indice the elemento en el que nos encontramos en cada iteracion. Siempre puedes usar la sintaxis *list.index(value)*, pero existe una forma mas sencilla. La funcion *enumerate()* te ayuda a seguir el indice de cada elemento a medida que el bucle recorre la lista."
   ]
  },
  {
   "cell_type": "code",
   "execution_count": 38,
   "metadata": {},
   "outputs": [
    {
     "name": "stdout",
     "output_type": "stream",
     "text": [
      "Mis amigos son:\n",
      "\n",
      "Indice: 0 Nombre: Juan\n",
      "Indice: 1 Nombre: Ana\n",
      "Indice: 2 Nombre: Luis\n"
     ]
    }
   ],
   "source": [
    "nombres = ['juan', 'ana', 'luis']\n",
    "\n",
    "print(\"Mis amigos son:\\n\")\n",
    "for index,nombre in enumerate(nombres):\n",
    "    indice = str(index)\n",
    "    print(\"Indice: \" + indice + \" Nombre: \" + nombres[index].title())"
   ]
  },
  {
   "cell_type": "markdown",
   "metadata": {},
   "source": [
    "Para enumerar una lista, necesitas anadir una variable *indice* que almacene el indice en cada momento. De modo que en vez de \n",
    "\n",
    "    for nombre in nombres:\n",
    "    \n",
    "debes poner\n",
    "    \n",
    "    for i, nombre in enumerate(nombres)\n",
    "    \n",
    "El tipo de la variable *i* es un entero. Si quieres imprimirla como una cadena tienes que realizar un *casting* y tranformarla al tipo *str*:\n",
    "\n",
    "    str(i)\n",
    "    \n",
    "El indice empieza en 0 y termina en n-1. **Cuidado con el acceso usar la variable que almacena la lista de nombres cuando recorremos el bucle... esto puede producir un error.**"
   ]
  },
  {
   "cell_type": "code",
   "execution_count": 47,
   "metadata": {},
   "outputs": [
    {
     "name": "stdout",
     "output_type": "stream",
     "text": [
      "Mis amigos son:\n",
      "\n",
      "Tengo un amigo/a llamadojuan\n",
      "Tengo un amigo/a llamadoana\n",
      "Tengo un amigo/a llamadoluis\n",
      "Tengo un amigo/a llamadojuan\n",
      "Tengo un amigo/a llamadoana\n",
      "Tengo un amigo/a llamadoluis\n"
     ]
    }
   ],
   "source": [
    "nombres = ['juan', 'ana', 'luis']\n",
    "\n",
    "print(\"Mis amigos son:\\n\")\n",
    "for index, nombre in enumerate(nombres):\n",
    "    print('Tengo un amigo/a llamado' + nombre)\n",
    "    \n",
    "for index  in range(len(nombres)):\n",
    "    print('Tengo un amigo/a llamado' + nombres[index])"
   ]
  },
  {
   "cell_type": "markdown",
   "metadata": {},
   "source": [
    "# Mezclando listas, bucles for-in y condicionales"
   ]
  },
  {
   "cell_type": "markdown",
   "metadata": {
    "collapsed": true
   },
   "source": [
    "Ahora que hemos visto los conceptos de lista, bucle for-in y condicionales podemos utilizarlos todos juntos para resolver problemas.\n",
    "\n",
    "En este caso la condicion del *if* es **True** y  se ejecuta."
   ]
  },
  {
   "cell_type": "code",
   "execution_count": 41,
   "metadata": {},
   "outputs": [
    {
     "name": "stdout",
     "output_type": "stream",
     "text": [
      "No cabemos en el coche\n"
     ]
    }
   ],
   "source": [
    "nombres = ['juan', 'ana', 'luis', 'mario', 'fernando']\n",
    "# la funcion len nos devuelve la longitud de una lista\n",
    "if len(nombres) > 4:\n",
    "    print('No cabemos en el coche')"
   ]
  },
  {
   "cell_type": "markdown",
   "metadata": {},
   "source": [
    "En este caso no se ejecuta porque la longitud de la lista es 3 y el test logico resulta **False**."
   ]
  },
  {
   "cell_type": "code",
   "execution_count": 44,
   "metadata": {
    "collapsed": true
   },
   "outputs": [],
   "source": [
    "nombres = ['juan', 'ana', 'luis']\n",
    "# la funcion len nos devuelve la longitud de una lista\n",
    "if len(nombres) > 4:\n",
    "    print('No cabemos en el coche')"
   ]
  },
  {
   "cell_type": "markdown",
   "metadata": {},
   "source": [
    "Combinando sentencias mas complejas podemos hacer algo como."
   ]
  },
  {
   "cell_type": "code",
   "execution_count": 46,
   "metadata": {},
   "outputs": [
    {
     "name": "stdout",
     "output_type": "stream",
     "text": [
      "Alquilaremos una furgoneta\n"
     ]
    }
   ],
   "source": [
    "nombres = ['juan', 'ana', 'luis', 'mario', 'fernando']\n",
    "# la funcion len nos devuelve la longitud de una lista\n",
    "if len(nombres) < 4:\n",
    "    print('Alquilaremos un coche')\n",
    "elif len(nombres) < 8:\n",
    "    print('Alquilaremos una furgoneta')\n",
    "elif len(nombres) < 20:\n",
    "    print('Alquilaremos un minibus')\n",
    "else:\n",
    "    print('Alquilaremos un bus')"
   ]
  },
  {
   "cell_type": "markdown",
   "metadata": {
    "collapsed": true
   },
   "source": [
    "Es importante darse cuenta de que en estos casos solo se evalua hasta el primer caso cuyo resultado es True. De esta forma en el condicional anidado *if-elif-elif-else anterior*, una vez se ejecuta *len(nombres < 8)* ya no se realiza ningun otro test logico y se sale del condicional.\n",
    "\n",
    "Existen situaciones en las que queremos testear mas de una condicion y no nos vale la anidacion de sentencias condicionales. Tenemos que entonces que testear cada una de las condiciones que necesitemos verificar."
   ]
  },
  {
   "cell_type": "code",
   "execution_count": null,
   "metadata": {
    "collapsed": true
   },
   "outputs": [],
   "source": [
    "nombres = ['juan', 'ana', 'luis', 'mario', 'fernando']\n",
    "\n",
    "if 'juan' in nombres:\n",
    "    print('hola juan')\n",
    "if 'luis' in nombres:\n",
    "    print('hola luis')"
   ]
  },
  {
   "cell_type": "markdown",
   "metadata": {},
   "source": [
    "Aunque lo de arriba funciona existe una forma mas sencilla y progamaticamente correcta de chequear para mas de una condicion combinando todo lo aprendido."
   ]
  },
  {
   "cell_type": "code",
   "execution_count": null,
   "metadata": {
    "collapsed": true
   },
   "outputs": [],
   "source": [
    "nombres = ['juan', 'ana', 'luis', 'mario', 'fernando']\n",
    "mis_amigos = ['juan', 'luis']\n",
    "\n",
    "for nombre in nombres:\n",
    "    if nombre in mis_amigos:\n",
    "        print('hola ' + nombre)"
   ]
  },
  {
   "cell_type": "markdown",
   "metadata": {},
   "source": [
    "# Valores True y False"
   ]
  },
  {
   "cell_type": "markdown",
   "metadata": {},
   "source": [
    "Cada valor se puede evaluar como True o Falso. La regla general es que cualquier valor diferente de cero y no vacio sera evaluado como True. Si tienes dudas siempre puedes realizar un chequeo rapido ejecutando un linea de codigo para ver si el valor es True o False. Ejecuta los siguientes ejemplos y comprueba los resultados."
   ]
  },
  {
   "cell_type": "code",
   "execution_count": null,
   "metadata": {
    "collapsed": true
   },
   "outputs": [],
   "source": [
    "if 0:\n",
    "    print(\"Esto se evalua como True\")\n",
    "else:\n",
    "    print(\"Esto se evalua como False\")"
   ]
  },
  {
   "cell_type": "code",
   "execution_count": null,
   "metadata": {
    "collapsed": true
   },
   "outputs": [],
   "source": [
    "if 1:\n",
    "    print(\"Esto se evalua como True.\")\n",
    "else:\n",
    "    print(\"Esto se evalue como False.\")"
   ]
  },
  {
   "cell_type": "code",
   "execution_count": null,
   "metadata": {
    "collapsed": true
   },
   "outputs": [],
   "source": [
    "if 1253756:\n",
    "    print(\"Esto se evalua como True.\")\n",
    "else:\n",
    "    print(\"Esto se evalue como False.\")"
   ]
  },
  {
   "cell_type": "code",
   "execution_count": null,
   "metadata": {
    "collapsed": true
   },
   "outputs": [],
   "source": [
    "if -1:\n",
    "    print(\"Esto se evalua como True.\")\n",
    "else:\n",
    "    print(\"Esto se evalue como False.\")"
   ]
  },
  {
   "cell_type": "code",
   "execution_count": null,
   "metadata": {
    "collapsed": true
   },
   "outputs": [],
   "source": [
    "if '': # cadena vacia\n",
    "    print(\"Esto se evalua como True.\")\n",
    "else:\n",
    "    print(\"Esto se evalue como False.\")"
   ]
  },
  {
   "cell_type": "code",
   "execution_count": null,
   "metadata": {
    "collapsed": true
   },
   "outputs": [],
   "source": [
    "if ' ': # cadena espacio en blanco\n",
    "    print(\"Esto se evalua como True.\")\n",
    "else:\n",
    "    print(\"Esto se evalue como False.\")"
   ]
  },
  {
   "cell_type": "code",
   "execution_count": null,
   "metadata": {
    "collapsed": true
   },
   "outputs": [],
   "source": [
    "if 'hello':\n",
    "    print(\"Esto se evalua como True.\")\n",
    "else:\n",
    "    print(\"Esto se evalue como False.\")"
   ]
  },
  {
   "cell_type": "code",
   "execution_count": null,
   "metadata": {
    "collapsed": true
   },
   "outputs": [],
   "source": [
    "if None:\n",
    "    print(\"Esto se evalua como True.\")\n",
    "else:\n",
    "    print(\"Esto se evalue como False.\")"
   ]
  },
  {
   "cell_type": "markdown",
   "metadata": {},
   "source": [
    "# Cadenas"
   ]
  },
  {
   "cell_type": "markdown",
   "metadata": {},
   "source": [
    "Ya vimos en temas anteriores que una cadena es una sucesion de caracteres encerrada entre\n",
    "comillas (simples o dobles). Python ofrece una serie de operadores y funciones predefinidos que\n",
    "manipulan cadenas o devuelven cadenas como resultado. Repasemos brevemente las que ya\n",
    "conocemos de temas anteriores:"
   ]
  },
  {
   "cell_type": "markdown",
   "metadata": {},
   "source": [
    "## Operadores con cadenas"
   ]
  },
  {
   "cell_type": "markdown",
   "metadata": {},
   "source": [
    "Operador *+* (concatenacion de cadenas): acepta dos cadenas como operandos y devuelve\n",
    "la cadena que resulta de unir la segunda a la primera."
   ]
  },
  {
   "cell_type": "code",
   "execution_count": 48,
   "metadata": {},
   "outputs": [
    {
     "name": "stdout",
     "output_type": "stream",
     "text": [
      "Hola Mundo\n"
     ]
    }
   ],
   "source": [
    "print('Hola ' + 'Mundo')"
   ]
  },
  {
   "cell_type": "markdown",
   "metadata": {},
   "source": [
    "Operador * (repeticion de cadena): acepta una cadena y un entero y devuelve la concatenacion de la cadena consigo misma tantas veces como indica el entero."
   ]
  },
  {
   "cell_type": "code",
   "execution_count": 49,
   "metadata": {},
   "outputs": [
    {
     "name": "stdout",
     "output_type": "stream",
     "text": [
      "--------------------\n"
     ]
    }
   ],
   "source": [
    "print('--' * 10)"
   ]
  },
  {
   "cell_type": "markdown",
   "metadata": {},
   "source": [
    "### Operador de sustitucion"
   ]
  },
  {
   "cell_type": "markdown",
   "metadata": {},
   "source": [
    "A la hora de formar una cadena se puede utilizar el operador de sustitucion. Este operador es el simbolo de porcentaje % (sustitucion de marcas de formato): acepta una cadena y una o mas expresiones (entre parentesis y separadas por comas) y devuelve una cadena en la que las marcas de formato (secuencias como %d, %f, etc.) se sustituyen por el resultado de evaluar las expresiones.\n",
    "- %d --> sustituye un entero\n",
    "- %f --> subituye un float\n",
    "- %s --> sustituye un string  \n",
    "\n",
    "\n",
    "Veamos un ejemplo.\n"
   ]
  },
  {
   "cell_type": "code",
   "execution_count": 83,
   "metadata": {},
   "outputs": [
    {
     "name": "stdout",
     "output_type": "stream",
     "text": [
      "Esto es un entero: 3  y puedo sehuir escribiendo 9  y 8\n",
      "Esto son dos enteros: 5, 9\n",
      "Esto es un flotante y un entero: 5.700000, 9\n"
     ]
    }
   ],
   "source": [
    "variable=1\n",
    "print('Esto es un entero: {0}  y puedo sehuir escribiendo {2}  y {1}'.format(3, 8,9) )\n",
    "print('Esto son dos enteros: %d, %d' % (5, 9))\n",
    "print('Esto es un flotante y un entero: %f, %d' % (5.7, 9))"
   ]
  },
  {
   "cell_type": "code",
   "execution_count": 50,
   "metadata": {},
   "outputs": [
    {
     "name": "stdout",
     "output_type": "stream",
     "text": [
      "Esto es una cadena compuesta de un entero: 2, un float 3.500000 y un string hola\n"
     ]
    }
   ],
   "source": [
    "cadena = 'Esto es una cadena compuesta de un entero: %d, un float %f y un string %s' % (2, 3.5, 'hola')\n",
    "print(cadena)"
   ]
  },
  {
   "cell_type": "markdown",
   "metadata": {},
   "source": [
    "Tambien se pueden cambiar los tipos de cadena a otro tipo y viceversa utilizando funciones que realizan el cambio. Esta operacion recibe el nombre de *casting* entre tipos.  \n",
    "\n",
    "*int*: recibe una cadena cuyo contenido es una secuencia de digitos y devuelve el numero\n",
    "entero que describe."
   ]
  },
  {
   "cell_type": "code",
   "execution_count": 55,
   "metadata": {},
   "outputs": [
    {
     "name": "stdout",
     "output_type": "stream",
     "text": [
      "789\n"
     ]
    }
   ],
   "source": [
    "print(int('789'))"
   ]
  },
  {
   "cell_type": "markdown",
   "metadata": {},
   "source": [
    "*float*: acepta una cadena cuyo contenido describe un flotante y devuelve el flotante en\n",
    "cuestion."
   ]
  },
  {
   "cell_type": "code",
   "execution_count": 57,
   "metadata": {},
   "outputs": [
    {
     "name": "stdout",
     "output_type": "stream",
     "text": [
      "5.32\n"
     ]
    }
   ],
   "source": [
    "print(float('5'+'.32'))"
   ]
  },
  {
   "cell_type": "markdown",
   "metadata": {},
   "source": [
    "*str* : se le pasa un entero o flotante y devuelve una cadena con una representacion del valor\n",
    "como secuencia de caracteres."
   ]
  },
  {
   "cell_type": "code",
   "execution_count": 58,
   "metadata": {},
   "outputs": [
    {
     "name": "stdout",
     "output_type": "stream",
     "text": [
      "6\n",
      "3.1416\n"
     ]
    }
   ],
   "source": [
    "print(str(6))\n",
    "print(str(3.1416))"
   ]
  },
  {
   "cell_type": "markdown",
   "metadata": {},
   "source": [
    "Recuerda que a un caracter puede asociarsele un numero en la Tabla ASCII para su representacion. Y que existen funciones que permiten calcular el numero ASCII y el caracter que corresponde a partir de ese numero.\n",
    "\n",
    "*ord*: acepta una cadena compuesta por un unico caracter y devuelve su codigo ASCII (un\n",
    "entero)."
   ]
  },
  {
   "cell_type": "code",
   "execution_count": 59,
   "metadata": {},
   "outputs": [
    {
     "name": "stdout",
     "output_type": "stream",
     "text": [
      "81\n",
      "64\n"
     ]
    }
   ],
   "source": [
    "print(ord('Q'))\n",
    "print(ord('@'))"
   ]
  },
  {
   "cell_type": "markdown",
   "metadata": {},
   "source": [
    "*chr*: recibe un entero (entre 0 y 255) y devuelve una cadena con el caracter que tiene a\n",
    "dicho entero como codigo ASCII."
   ]
  },
  {
   "cell_type": "code",
   "execution_count": 60,
   "metadata": {},
   "outputs": [
    {
     "name": "stdout",
     "output_type": "stream",
     "text": [
      "Q\n",
      "@\n"
     ]
    }
   ],
   "source": [
    "print(chr(81))\n",
    "print(chr(64))"
   ]
  },
  {
   "cell_type": "markdown",
   "metadata": {},
   "source": [
    "Podemos manipular cadenas, ademas, mediante metodos que les son propios:"
   ]
  },
  {
   "cell_type": "markdown",
   "metadata": {},
   "source": [
    "*a.lower()* (paso a minusculas): devuelve una cadena con los caracteres de a convertidos\n",
    "en minusculas."
   ]
  },
  {
   "cell_type": "code",
   "execution_count": 65,
   "metadata": {},
   "outputs": [
    {
     "name": "stdout",
     "output_type": "stream",
     "text": [
      "hola\n"
     ]
    }
   ],
   "source": [
    "a = 'HOLA'\n",
    "\n",
    "print(a.lower())"
   ]
  },
  {
   "cell_type": "markdown",
   "metadata": {},
   "source": [
    "*a.upper()* (paso a mayusculas): devuelve una cadena con los caracteres de a convertidos\n",
    "en mayusculas."
   ]
  },
  {
   "cell_type": "code",
   "execution_count": 66,
   "metadata": {},
   "outputs": [
    {
     "name": "stdout",
     "output_type": "stream",
     "text": [
      "HOLA\n"
     ]
    }
   ],
   "source": [
    "a = 'HOLA'\n",
    "print(a.upper())"
   ]
  },
  {
   "cell_type": "markdown",
   "metadata": {},
   "source": [
    "## Escapes"
   ]
  },
  {
   "cell_type": "markdown",
   "metadata": {},
   "source": [
    "Cuando una impresora o un terminal de pantalla tratan de representar el caracter de valor ASCII 10, saltan de linea. El caracter *\\n* es un caracter de control, pues su funcion es permitirnos ejecutar una accion de control sobre ciertos dispositivos (como la impresora o el terminal). El caracter *\\t* nos permite anadir un tabulador."
   ]
  },
  {
   "cell_type": "code",
   "execution_count": 5,
   "metadata": {},
   "outputs": [
    {
     "name": "stdout",
     "output_type": "stream",
     "text": [
      "Hola Mundo\n",
      "-----\n",
      "Hola \n",
      "Mundo\n",
      "-----\n",
      "Hola \tMundo\n"
     ]
    }
   ],
   "source": [
    "print('Hola Mundo')\n",
    "print(5*'-')\n",
    "print('Hola \\nMundo')\n",
    "print(5*'-')\n",
    "print('Hola \\tMundo')"
   ]
  },
  {
   "cell_type": "markdown",
   "metadata": {},
   "source": [
    "Ciertos caracteres no se pueden representar directamente en una cadena y hay que escaparlos. Para poder escapar un caracter hay que poner una barra invertida delante *\\ *. Existen fundamentalmente tres tipos de caracteres que nos pueden interesar escapar en una cadena para nuestro uso y son: \\, ' y \". Si estos caracteres no son escapados al introducirlos en una cadena, python nos genera un error."
   ]
  },
  {
   "cell_type": "code",
   "execution_count": 87,
   "metadata": {},
   "outputs": [
    {
     "name": "stdout",
     "output_type": "stream",
     "text": [
      "Barra invertida sin escapar produce un error : '\n"
     ]
    }
   ],
   "source": [
    "print('Barra invertida sin escapar produce un error : \\'')"
   ]
  },
  {
   "cell_type": "code",
   "execution_count": 90,
   "metadata": {
    "collapsed": true
   },
   "outputs": [],
   "source": [
    "print('Barra invertida escapada no produce error : \\\\')"
   ]
  },
  {
   "cell_type": "code",
   "execution_count": 91,
   "metadata": {
    "collapsed": true
   },
   "outputs": [],
   "source": [
    "print('\\'hola mundo en comillas simples\\'')"
   ]
  },
  {
   "cell_type": "code",
   "execution_count": 8,
   "metadata": {},
   "outputs": [
    {
     "name": "stdout",
     "output_type": "stream",
     "text": [
      "hola \n",
      " \tmundo\n",
      "0\n"
     ]
    }
   ],
   "source": [
    "print('hola \\n \\tmundo')\n",
    "opcion=-5\n",
    "opcion1=opcion if opcion>0 else 0\n",
    "print(opcion1)"
   ]
  },
  {
   "cell_type": "code",
   "execution_count": 89,
   "metadata": {},
   "outputs": [
    {
     "name": "stdout",
     "output_type": "stream",
     "text": [
      "\"hola mundo en comillas \\dobles\"\n"
     ]
    }
   ],
   "source": [
    "print('\\\"hola mundo en comillas \\\\dobles\\\"')"
   ]
  },
  {
   "cell_type": "markdown",
   "metadata": {},
   "source": [
    "## Longitud de una cadena"
   ]
  },
  {
   "cell_type": "markdown",
   "metadata": {},
   "source": [
    "Las cadenas permiten comprobar su longitud a traves de la funcion _len_. A tener en cuenta, los espacios en blanco, los saltos de linea *\\n* y tabuladores son *\\t* son tenidos en cuenta como un caracter a la hora de calcular la longitud de una cadena."
   ]
  },
  {
   "cell_type": "code",
   "execution_count": 67,
   "metadata": {},
   "outputs": [
    {
     "name": "stdout",
     "output_type": "stream",
     "text": [
      "9\n",
      "La longitud de la cadena 'HolaMundo' es: 9 \n",
      "La longitud de la cadena 'Hola Mundo' es: 10 \n"
     ]
    }
   ],
   "source": [
    "print(len('HolaMundo')) # imprime longitud de cadena\n",
    "print('La longitud de la cadena \\'HolaMundo\\' es: %d ' % len('HolaMundo'))\n",
    "print('La longitud de la cadena \\'Hola Mundo\\' es: %d ' % len('Hola Mundo'))"
   ]
  },
  {
   "cell_type": "code",
   "execution_count": 69,
   "metadata": {},
   "outputs": [
    {
     "name": "stdout",
     "output_type": "stream",
     "text": [
      "7\n"
     ]
    }
   ],
   "source": [
    "print (len('a\\n\\n\\t\\t\\ta'))"
   ]
  },
  {
   "cell_type": "markdown",
   "metadata": {},
   "source": [
    "## Indexacion"
   ]
  },
  {
   "cell_type": "markdown",
   "metadata": {},
   "source": [
    "Una cadena no es mas que una sucesion de caracteres consecutivos. Como tal, se puede acceder de forma individual a los caracteres de una cadena utilizando el operador de indexación. Se accede encerrando entre corchetes el elemento al que se quiere acceder. Si a  es una cadena, a[i]  es el carácter que ocupa la posición i+ 1. El primer carácter empieza en el índice 0. El procedimiento es basicamente el mismo que vimos para las listas pero aplicado ahora a cadenas."
   ]
  },
  {
   "cell_type": "code",
   "execution_count": 10,
   "metadata": {},
   "outputs": [
    {
     "name": "stdout",
     "output_type": "stream",
     "text": [
      "h\n",
      "o\n",
      "l\n",
      "m\n",
      "o\n"
     ]
    }
   ],
   "source": [
    "print('hola\\nmundo'[0])\n",
    "print('hola\\nmundo'[1])\n",
    "print('hola\\nmundo'[2])\n",
    "print('hola\\nmundo'[5])\n",
    "print('hola\\nmundo'[len('hola\\nmundo')-1])"
   ]
  },
  {
   "cell_type": "markdown",
   "metadata": {},
   "source": [
    "Tambien se puede acceder de forma individual a los caracteres de una cadena utilizando indices negativos. El ultimo carácter está en la posición -1, el penúltimo en la -2 y así… Simplifica de forma significativa el acceso a las últimas posiciones de la cadena.\n"
   ]
  },
  {
   "cell_type": "code",
   "execution_count": 11,
   "metadata": {},
   "outputs": [
    {
     "name": "stdout",
     "output_type": "stream",
     "text": [
      "o\n",
      "d\n",
      "n\n",
      "\n",
      "\n"
     ]
    }
   ],
   "source": [
    "print('hola\\nmundo'[-1])\n",
    "print('hola\\nmundo'[-2])\n",
    "print('hola\\nmundo'[-3])\n",
    "print('hola\\nmundo'[-6])"
   ]
  },
  {
   "cell_type": "markdown",
   "metadata": {},
   "source": [
    "**NOTA: Aunque el procedimiento de indexacion es el mismo, una cadena no es una lista de caracteres.**\n",
    "\n",
    "lista = ['h', 'o', 'l', 'a']  \n",
    "cadena = 'hola'\n",
    "\n",
    "Las variables *lista* y *cadena* no contienen lo mismo. La primera contiene un lista de caracteres y la segunda una cadena. Se puede crear una lista desde una cadena utilizando la funcion *list(cadena)*."
   ]
  },
  {
   "cell_type": "code",
   "execution_count": 90,
   "metadata": {},
   "outputs": [
    {
     "name": "stdout",
     "output_type": "stream",
     "text": [
      "['h', 'o', 'l', 'a']\n",
      "hola\n",
      "Hello world!\n",
      "['H', 'e', 'l', 'l', 'o', ' ', 'w', 'o', 'r', 'l', 'd', '!']\n"
     ]
    }
   ],
   "source": [
    "mensaje = \"Hello world!\"\n",
    "lista = ['h', 'o', 'l', 'a']\n",
    "cadena = 'hola'\n",
    "print (lista)\n",
    "print (cadena)\n",
    "\n",
    "mensaje_list = list(mensaje)\n",
    "print(mensaje) # cadena \n",
    "print(mensaje_list) # lista con caracteres"
   ]
  },
  {
   "cell_type": "markdown",
   "metadata": {},
   "source": [
    "## Bucle _for-in_ en cadenas"
   ]
  },
  {
   "cell_type": "markdown",
   "metadata": {},
   "source": [
    "Tambien se puede aplicar el bucle *for-in* a una cadena que resultara en el acceso en cada iteracion a cada uno de los caracteres de la cadena."
   ]
  },
  {
   "cell_type": "code",
   "execution_count": 71,
   "metadata": {},
   "outputs": [
    {
     "name": "stdout",
     "output_type": "stream",
     "text": [
      "Letra actual:  p\n",
      "Letra actual:  y\n",
      "Letra actual:  t\n",
      "Letra actual:  h\n",
      "Letra actual:  o\n",
      "Letra actual:  n\n",
      "Letra actual:  d\n",
      "Letra actual:  i\n",
      "Letra actual:  a\n",
      "Letra actual:  r\n",
      "Letra actual:  i\n",
      "Letra actual:  o\n"
     ]
    }
   ],
   "source": [
    "for letra in \"pythondiario\":\n",
    "    print(\"Letra actual: \", letra)"
   ]
  },
  {
   "cell_type": "markdown",
   "metadata": {},
   "source": [
    "Construyendo una cadena  a partir de otra."
   ]
  },
  {
   "cell_type": "code",
   "execution_count": 72,
   "metadata": {},
   "outputs": [
    {
     "name": "stdout",
     "output_type": "stream",
     "text": [
      "H\n",
      "Ho\n",
      "Hol\n",
      "Hola\n",
      "Hola \n",
      "Hola M\n",
      "Hola Mu\n",
      "Hola Mun\n",
      "Hola Mund\n",
      "Hola Mundo\n"
     ]
    }
   ],
   "source": [
    "cadena = 'Hola Mundo'\n",
    "cadena2 = ''\n",
    "for caracter in cadena:\n",
    "    cadena2 = cadena2 + caracter\n",
    "    print(cadena2)"
   ]
  },
  {
   "cell_type": "markdown",
   "metadata": {},
   "source": [
    "Como quedaria el codigo anterior sin utilizar un bucle *for-in*?"
   ]
  },
  {
   "cell_type": "code",
   "execution_count": 73,
   "metadata": {},
   "outputs": [
    {
     "name": "stdout",
     "output_type": "stream",
     "text": [
      "H\n",
      "Ho\n",
      "Hol\n",
      "Hola\n",
      "Hola \n",
      "Hola M\n",
      "Hola Mu\n",
      "Hola Mun\n",
      "Hola Mund\n",
      "Hola Mundo\n"
     ]
    }
   ],
   "source": [
    "cadena = 'Hola Mundo'\n",
    "cadena2 = ''\n",
    "\n",
    "elem=cadena[0]\n",
    "cadena2+=elem\n",
    "print(cadena2)\n",
    "elem=cadena[1]\n",
    "cadena2+=elem\n",
    "print(cadena2)\n",
    "elem=cadena[2]\n",
    "cadena2+=elem\n",
    "print(cadena2)\n",
    "elem=cadena[3]\n",
    "cadena2+=elem\n",
    "print(cadena2)\n",
    "elem=cadena[4]\n",
    "cadena2+=elem\n",
    "print(cadena2)\n",
    "elem=cadena[5]\n",
    "cadena2+=elem\n",
    "print(cadena2)\n",
    "elem=cadena[6]\n",
    "cadena2+=elem\n",
    "print(cadena2)\n",
    "elem=cadena[7]\n",
    "cadena2+=elem\n",
    "print(cadena2)\n",
    "elem=cadena[8]\n",
    "cadena2+=elem\n",
    "print(cadena2)\n",
    "elem=cadena[9]\n",
    "cadena2+=elem\n",
    "print(cadena2)"
   ]
  },
  {
   "cell_type": "markdown",
   "metadata": {},
   "source": [
    "Como puedes ver los bucles *for-in son de gran ayuda y simplifican las operaciones."
   ]
  },
  {
   "cell_type": "markdown",
   "metadata": {},
   "source": [
    "Tambien se pueden anidad el bucle _for-in_ y la setencia _if_ para cadenas."
   ]
  },
  {
   "cell_type": "code",
   "execution_count": 74,
   "metadata": {},
   "outputs": [
    {
     "name": "stdout",
     "output_type": "stream",
     "text": [
      "Esto es una: n\n",
      "Esto es una: n\n"
     ]
    }
   ],
   "source": [
    "cadena = 'Don Quijote de la Mancha'\n",
    "for letra in cadena:\n",
    "    if letra == 'n':\n",
    "        print('Esto es una: %s' % letra)"
   ]
  },
  {
   "cell_type": "markdown",
   "metadata": {},
   "source": [
    "Tambien se pueden anidar dos bucles for-in."
   ]
  },
  {
   "cell_type": "code",
   "execution_count": 75,
   "metadata": {},
   "outputs": [
    {
     "name": "stdout",
     "output_type": "stream",
     "text": [
      "h p\n",
      "h y\n",
      "h t\n",
      "h h\n",
      "h o\n",
      "h n\n",
      "i p\n",
      "i y\n",
      "i t\n",
      "i h\n",
      "i o\n",
      "i n\n"
     ]
    }
   ],
   "source": [
    "cadena1 = 'hi'\n",
    "cadena2 = 'python'\n",
    "for letra1 in cadena1:\n",
    "    for letra2 in cadena2:\n",
    "        print(letra1, letra2)"
   ]
  },
  {
   "cell_type": "markdown",
   "metadata": {},
   "source": [
    "# Ejercicios"
   ]
  },
  {
   "cell_type": "markdown",
   "metadata": {},
   "source": [
    "1 - Tres son multitud\n",
    "- Haz una lista de nombres que incluya al menos cuatro personas.\n",
    "- Escribe una prueba if que imprima un mensaje sobre si la habitación esta abarrotada, si hay más de tres personas en la lista.\n",
    "- Modifica la lista para que solo haya dos personas en ella. \n",
    "- Ejecuta tu prueba if de nuevo. Esta vez no debería haber ningún resultado, porque hay menos de tres personas en la lista.\n"
   ]
  },
  {
   "cell_type": "code",
   "execution_count": 84,
   "metadata": {},
   "outputs": [
    {
     "name": "stdout",
     "output_type": "stream",
     "text": [
      "La habitación está abarrotada\n"
     ]
    }
   ],
   "source": [
    "Lista=['Monica','Tasio','Lucas','Irene','Cecilia','Iñaki']\n",
    "if len(Lista) > 3:\n",
    "    print(\"La habitación está abarrotada\")\n",
    "Lista=['Monica','Tasio']\n",
    "if len(Lista) > 3:\n",
    "    print(\"La habitación está abarrotada\")"
   ]
  },
  {
   "cell_type": "markdown",
   "metadata": {},
   "source": [
    "2 - Modifica el problema anterior para que cuando no este muy llena la habitación, se imprima un mensaje que lo indique."
   ]
  },
  {
   "cell_type": "code",
   "execution_count": 85,
   "metadata": {},
   "outputs": [
    {
     "name": "stdout",
     "output_type": "stream",
     "text": [
      "La habitación está abarrotada\n",
      "La habitación está bien\n"
     ]
    }
   ],
   "source": [
    "Lista=['Monica','Tasio','Lucas','Irene','Cecilia','Iñaki']\n",
    "if len(Lista) > 3:\n",
    "    print(\"La habitación está abarrotada\")\n",
    "else:\n",
    "    print(\"La habitación está bien\")\n",
    "Lista=['Monica','Tasio']\n",
    "if len(Lista) > 3:\n",
    "    print(\"La habitación está abarrotada\")\n",
    "else:\n",
    "    print(\"La habitación está bien\")"
   ]
  },
  {
   "cell_type": "markdown",
   "metadata": {},
   "source": [
    "3 - Partiendo del ejercicio 1 realiza pruebas que permitan determinar:\n",
    "- Si hay más de 5 personas, se imprime un mensaje sobre la presencia de una fiesta en la sala.\n",
    "- Si hay entre 3-5 personas, se imprime un mensaje acerca de que la sala está abarrotada.\n",
    "- Si hay 1 o 2 personas, se imprime un mensaje acerca de que la habitación no está abarrotada.\n",
    "- Si no hay personas en la sala, se imprime un mensaje que indica que la sala está vacía."
   ]
  },
  {
   "cell_type": "code",
   "execution_count": 91,
   "metadata": {},
   "outputs": [
    {
     "name": "stdout",
     "output_type": "stream",
     "text": [
      "¡¡¡¡¡ FIESTA !!!!!!\n"
     ]
    }
   ],
   "source": [
    "Lista=['Monica','Tasio','Lucas','Irene','Cecilia','Iñaki']\n",
    "if len(Lista) > 5:\n",
    "    print(\"¡¡¡¡¡ FIESTA !!!!!!\")\n",
    "elif len(Lista > 2):\n",
    "    print(\"La habitación está abarrotada\")\n",
    "elif len(Lista > 0):\n",
    "    print(\"La habitación está bien\")\n",
    "else:\n",
    "    print(\"La habitación está vacia\")\n",
    "    "
   ]
  },
  {
   "cell_type": "markdown",
   "metadata": {},
   "source": [
    "4 - ¿Que se mostrara en pantalla al ejecutar estas sentencias?"
   ]
  },
  {
   "cell_type": "code",
   "execution_count": 92,
   "metadata": {},
   "outputs": [
    {
     "name": "stdout",
     "output_type": "stream",
     "text": [
      "\\n'a'\n"
     ]
    }
   ],
   "source": [
    "print('\\\\n\\'a\\'')"
   ]
  },
  {
   "cell_type": "code",
   "execution_count": 93,
   "metadata": {},
   "outputs": [
    {
     "name": "stdout",
     "output_type": "stream",
     "text": [
      "\t\tuna\to\n"
     ]
    }
   ],
   "source": [
    "print('\\t\\tuna\\to')"
   ]
  },
  {
   "cell_type": "markdown",
   "metadata": {},
   "source": [
    "5 - Ejecuta este codigo. Existe alguna ocasion en la que el resultado de alguna de las operacion no sea correcto. Corrigelo para que siempre muestre un resultado correcto."
   ]
  },
  {
   "cell_type": "code",
   "execution_count": 101,
   "metadata": {},
   "outputs": [
    {
     "name": "stdout",
     "output_type": "stream",
     "text": [
      "1586  es par\n"
     ]
    }
   ],
   "source": [
    "import random\n",
    "a=random.randrange(2000)\n",
    "if a%2==0:\n",
    "    print(a,' es par')\n",
    "else:\n",
    "    print(a,' es impar')\n"
   ]
  },
  {
   "cell_type": "markdown",
   "metadata": {},
   "source": [
    "6 - Disena un programa que, dado un numero entero, muestre por pantalla el mensaje ((El numero es par.)) cuando el numero sea par y el mensaje ((El numero es impar.)) cuando sea impar. (Una pista: un numero es par si el resto de dividirlo por 2 es 0, e impar en caso contrario.)"
   ]
  },
  {
   "cell_type": "code",
   "execution_count": 102,
   "metadata": {},
   "outputs": [
    {
     "name": "stdout",
     "output_type": "stream",
     "text": [
      "339  es impar\n"
     ]
    }
   ],
   "source": [
    "\n",
    "a=random.randrange(2000)\n",
    "if a%2==0:\n",
    "    print(a,' es par')\n",
    "else:\n",
    "    print(a,' es impar')\n"
   ]
  },
  {
   "cell_type": "markdown",
   "metadata": {},
   "source": [
    "7 - Disena un programa que, dado un numero entero, determine si este es el doble de unnumero impar. (Ejemplo: 14 es el doble de 7, que es impar.)"
   ]
  },
  {
   "cell_type": "code",
   "execution_count": 104,
   "metadata": {},
   "outputs": [
    {
     "name": "stdout",
     "output_type": "stream",
     "text": [
      "1352  es doble de par  676.0\n"
     ]
    }
   ],
   "source": [
    "\n",
    "b=random.randrange(2000)\n",
    "if (b/2)%2==0:\n",
    "    print(b,' es doble de par ',b/2)\n",
    "else:\n",
    "    print(b,' es doble de impar ',b/2)\n"
   ]
  },
  {
   "cell_type": "markdown",
   "metadata": {},
   "source": [
    "8 - Disena un programa que, dados dos numeros enteros, muestre por pantalla uno de estos mensajes: ((El segundo es el cuadrado exacto del primero.)), ((El segundo es menor que el cuadrado del primero.)) o ((El segundo es mayor que el cuadrado del primero.)), dependiendo de la verificacion de la condicion correspondiente al significado de cada mensaje."
   ]
  },
  {
   "cell_type": "code",
   "execution_count": 111,
   "metadata": {},
   "outputs": [
    {
     "name": "stdout",
     "output_type": "stream",
     "text": [
      "1  es el cuadrado exacto de  1\n"
     ]
    }
   ],
   "source": [
    "a=random.randrange(1,3)\n",
    "b=random.randrange(1,9)\n",
    "if (a)**2==b:\n",
    "    print(b,' es el cuadrado exacto de ',a)\n",
    "elif (b>a**2):\n",
    "    print(b,' es mayor que el cuadrado de ',a)\n",
    "else:\n",
    "    print(b,' es menor que el cuadrado de ',a)\n"
   ]
  },
  {
   "cell_type": "code",
   "execution_count": null,
   "metadata": {
    "collapsed": true
   },
   "outputs": [],
   "source": []
  },
  {
   "cell_type": "code",
   "execution_count": null,
   "metadata": {
    "collapsed": true
   },
   "outputs": [],
   "source": []
  },
  {
   "cell_type": "code",
   "execution_count": null,
   "metadata": {
    "collapsed": true
   },
   "outputs": [],
   "source": []
  },
  {
   "cell_type": "markdown",
   "metadata": {},
   "source": [
    "9 - Un capital de C euros a un interes del x por cien anual durante n anos se convierte en C · (1 + x/100)^n euros. Disena un programa Python que dada una cantidad C y el interes x y calcule el capital final solo si x es una cantidad positiva."
   ]
  },
  {
   "cell_type": "code",
   "execution_count": 115,
   "metadata": {},
   "outputs": [
    {
     "name": "stdout",
     "output_type": "stream",
     "text": [
      "Capital 852030  Interes 8 %\n",
      "Capital final a 5 años es 1251911.6012759046\n"
     ]
    }
   ],
   "source": [
    "interes=random.randrange(-5,10)\n",
    "C=random.randrange(1000,999999)\n",
    "x=random.randrange(1,10)\n",
    "print ('Capital '+str(C)+'  Interes '+str(interes)+' %')\n",
    "if interes>0:\n",
    "    print('Capital final a '+str(x)+' años es '+str(C*(1+(interes/100))**x) )"
   ]
  },
  {
   "cell_type": "markdown",
   "metadata": {},
   "source": [
    "10 - Escribe un programa que dada una cadena, cuente el numero de letras 'a' que contiene."
   ]
  },
  {
   "cell_type": "code",
   "execution_count": 120,
   "metadata": {},
   "outputs": [
    {
     "name": "stdout",
     "output_type": "stream",
     "text": [
      "hay  8 a\n"
     ]
    }
   ],
   "source": [
    "cadena='Escribe un programa que dada una cadena, cuente el numero de letras '\n",
    "j=0\n",
    "for i in range(len(cadena)):\n",
    "    #print(i,cadena[i])\n",
    "    if (cadena[i] == 'a'):\n",
    "        j+=1\n",
    "    \n",
    "print('hay  '+str(j) +' a' )        \n"
   ]
  },
  {
   "cell_type": "markdown",
   "metadata": {},
   "source": [
    "11 - Escribe un programa que permita determinar si una cadena es palindroma (se lee igual de izquierda a derecha que de derecha a izquierda). Por ejemplo, 'ali tomo tila' es una cadena palindroma."
   ]
  },
  {
   "cell_type": "code",
   "execution_count": 141,
   "metadata": {},
   "outputs": [
    {
     "name": "stdout",
     "output_type": "stream",
     "text": [
      "a  a\n",
      "b  b\n",
      "c  c\n",
      "d  d\n",
      "e  e\n",
      "abcdeedcba es palindroma\n"
     ]
    }
   ],
   "source": [
    "cadena='abcdeedcba'\n",
    "j=0\n",
    "#print(cadena[0])\n",
    "#print(cadena[-1])\n",
    "for i1 in range(int(len(cadena)/2)):\n",
    "    i2=(i1+1)*(-1)\n",
    "    print(cadena[i1] +\"  \"+cadena[i2])\n",
    "    if (cadena[i1] != cadena[i2] ):\n",
    "        j=1\n",
    "\n",
    "if j==1:\n",
    "    print(cadena+ \" No es palindroma\")\n",
    "else:\n",
    "    print(cadena+ \" es palindroma\")"
   ]
  },
  {
   "cell_type": "markdown",
   "metadata": {},
   "source": [
    "12 - Escribe un programa que dadas dos cadenas averigue los caracteres que comparten entre ellas. Por ejemplo: 'Hola Madrid' y 'daaam' deberia dar como resultado algo como: 'dam' que son los caracteres que comparten"
   ]
  },
  {
   "cell_type": "code",
   "execution_count": null,
   "metadata": {
    "collapsed": true
   },
   "outputs": [],
   "source": [
    "cadena1= 'Hola Madrid' \n",
    "cadena2= 'daaam' "
   ]
  },
  {
   "cell_type": "markdown",
   "metadata": {
    "collapsed": true
   },
   "source": [
    "\n",
    "13 - Escribir un programa dada una cadena, imprima por pantalla el valor ASCII de sus caracteres.\n",
    "\n",
    "PISTA: La funcion ord('a') retorna el codigo ascii del caracter 'a'."
   ]
  },
  {
   "cell_type": "code",
   "execution_count": 142,
   "metadata": {},
   "outputs": [
    {
     "name": "stdout",
     "output_type": "stream",
     "text": [
      "72\n",
      "111\n",
      "108\n",
      "97\n",
      "32\n",
      "77\n",
      "97\n",
      "100\n",
      "114\n",
      "105\n",
      "100\n"
     ]
    }
   ],
   "source": [
    "cadena1= 'Hola Madrid' \n",
    "for letra in cadena1:\n",
    "    print(ord(letra))\n"
   ]
  },
  {
   "cell_type": "markdown",
   "metadata": {},
   "source": [
    "14 - Escribir un programa que dadas dos cadenas, imprima por pantalla que cadena tiene la suma del valor de sus caracteres en ASCII mayor."
   ]
  },
  {
   "cell_type": "code",
   "execution_count": 161,
   "metadata": {},
   "outputs": [
    {
     "name": "stdout",
     "output_type": "stream",
     "text": [
      "1013 1261\n",
      "aaaaaaaaaaaaa suma de ascci mayor 1261\n"
     ]
    }
   ],
   "source": [
    "cadena1= 'Hola Madrid' \n",
    "cadena2= 'aaaaaaaaaaaaa' \n",
    "suma1=0\n",
    "suma2=0\n",
    "for letra in cadena1:\n",
    "    suma1+=ord(letra)\n",
    "for letra in cadena2:\n",
    "    suma2+=ord(letra)\n",
    "    \n",
    "print (suma1,suma2)\n",
    "if suma1>suma2:\n",
    "    print(cadena1 +\" suma de ascci mayor\",suma1)\n",
    "elif suma1<suma2:\n",
    "    print(cadena2 +\" suma de ascci mayor\",suma2)\n",
    "else:\n",
    "    print(cadena2 +\" y \"+cadena1+\" suma de ascci igua\",suma2)"
   ]
  },
  {
   "cell_type": "markdown",
   "metadata": {},
   "source": [
    "15 - Escribe un programa que detecte si existen vocales dentro de una cadena. Puedes limitarte a los casos de vocales sin acentos."
   ]
  },
  {
   "cell_type": "code",
   "execution_count": 163,
   "metadata": {},
   "outputs": [
    {
     "name": "stdout",
     "output_type": "stream",
     "text": [
      " Vocal *o*\n",
      " Vocal *a*\n",
      " Vocal *a*\n",
      " Vocal *i*\n"
     ]
    }
   ],
   "source": [
    "cadena1= 'Hola Madrid' \n",
    "for letra in cadena1:\n",
    "    if letra == 'a' or letra =='e' or letra == 'i' or letra =='o' or letra =='u':\n",
    "        print (' Vocal *'+letra+'*')\n",
    "    "
   ]
  },
  {
   "cell_type": "markdown",
   "metadata": {},
   "source": [
    "16 - Escribe un programa que remueva las extensiones de ficheros y se quede exclusivamente con los nombres. Por ejemplo, si el input es 'calculo.txt', el resultado de deberia ser calculo. \n",
    "\n",
    "PISTA: Piensa que las extensiones siempre son tres caracteres precedidos por el caracter '.'"
   ]
  },
  {
   "cell_type": "code",
   "execution_count": 169,
   "metadata": {},
   "outputs": [
    {
     "name": "stdout",
     "output_type": "stream",
     "text": [
      "calculov1.3\n"
     ]
    }
   ],
   "source": [
    "fichero='calculov1.3.txt'\n",
    "fin=fichero.rfind('.')\n",
    "print(fichero[:fin])    "
   ]
  },
  {
   "cell_type": "markdown",
   "metadata": {},
   "source": [
    "17 - Usando un bucle _for_, haz que Python escriba todas las tablas de multiplicar, del 1 al 10."
   ]
  },
  {
   "cell_type": "code",
   "execution_count": 172,
   "metadata": {},
   "outputs": [
    {
     "name": "stdout",
     "output_type": "stream",
     "text": [
      "0  por  0  igual a  0\n",
      "0  por  1  igual a  0\n",
      "0  por  2  igual a  0\n",
      "0  por  3  igual a  0\n",
      "0  por  4  igual a  0\n",
      "0  por  5  igual a  0\n",
      "0  por  6  igual a  0\n",
      "0  por  7  igual a  0\n",
      "0  por  8  igual a  0\n",
      "0  por  9  igual a  0\n",
      "0  por  10  igual a  0\n",
      "1  por  0  igual a  0\n",
      "1  por  1  igual a  1\n",
      "1  por  2  igual a  2\n",
      "1  por  3  igual a  3\n",
      "1  por  4  igual a  4\n",
      "1  por  5  igual a  5\n",
      "1  por  6  igual a  6\n",
      "1  por  7  igual a  7\n",
      "1  por  8  igual a  8\n",
      "1  por  9  igual a  9\n",
      "1  por  10  igual a  10\n",
      "2  por  0  igual a  0\n",
      "2  por  1  igual a  2\n",
      "2  por  2  igual a  4\n",
      "2  por  3  igual a  6\n",
      "2  por  4  igual a  8\n",
      "2  por  5  igual a  10\n",
      "2  por  6  igual a  12\n",
      "2  por  7  igual a  14\n",
      "2  por  8  igual a  16\n",
      "2  por  9  igual a  18\n",
      "2  por  10  igual a  20\n",
      "3  por  0  igual a  0\n",
      "3  por  1  igual a  3\n",
      "3  por  2  igual a  6\n",
      "3  por  3  igual a  9\n",
      "3  por  4  igual a  12\n",
      "3  por  5  igual a  15\n",
      "3  por  6  igual a  18\n",
      "3  por  7  igual a  21\n",
      "3  por  8  igual a  24\n",
      "3  por  9  igual a  27\n",
      "3  por  10  igual a  30\n",
      "4  por  0  igual a  0\n",
      "4  por  1  igual a  4\n",
      "4  por  2  igual a  8\n",
      "4  por  3  igual a  12\n",
      "4  por  4  igual a  16\n",
      "4  por  5  igual a  20\n",
      "4  por  6  igual a  24\n",
      "4  por  7  igual a  28\n",
      "4  por  8  igual a  32\n",
      "4  por  9  igual a  36\n",
      "4  por  10  igual a  40\n",
      "5  por  0  igual a  0\n",
      "5  por  1  igual a  5\n",
      "5  por  2  igual a  10\n",
      "5  por  3  igual a  15\n",
      "5  por  4  igual a  20\n",
      "5  por  5  igual a  25\n",
      "5  por  6  igual a  30\n",
      "5  por  7  igual a  35\n",
      "5  por  8  igual a  40\n",
      "5  por  9  igual a  45\n",
      "5  por  10  igual a  50\n",
      "6  por  0  igual a  0\n",
      "6  por  1  igual a  6\n",
      "6  por  2  igual a  12\n",
      "6  por  3  igual a  18\n",
      "6  por  4  igual a  24\n",
      "6  por  5  igual a  30\n",
      "6  por  6  igual a  36\n",
      "6  por  7  igual a  42\n",
      "6  por  8  igual a  48\n",
      "6  por  9  igual a  54\n",
      "6  por  10  igual a  60\n",
      "7  por  0  igual a  0\n",
      "7  por  1  igual a  7\n",
      "7  por  2  igual a  14\n",
      "7  por  3  igual a  21\n",
      "7  por  4  igual a  28\n",
      "7  por  5  igual a  35\n",
      "7  por  6  igual a  42\n",
      "7  por  7  igual a  49\n",
      "7  por  8  igual a  56\n",
      "7  por  9  igual a  63\n",
      "7  por  10  igual a  70\n",
      "8  por  0  igual a  0\n",
      "8  por  1  igual a  8\n",
      "8  por  2  igual a  16\n",
      "8  por  3  igual a  24\n",
      "8  por  4  igual a  32\n",
      "8  por  5  igual a  40\n",
      "8  por  6  igual a  48\n",
      "8  por  7  igual a  56\n",
      "8  por  8  igual a  64\n",
      "8  por  9  igual a  72\n",
      "8  por  10  igual a  80\n",
      "9  por  0  igual a  0\n",
      "9  por  1  igual a  9\n",
      "9  por  2  igual a  18\n",
      "9  por  3  igual a  27\n",
      "9  por  4  igual a  36\n",
      "9  por  5  igual a  45\n",
      "9  por  6  igual a  54\n",
      "9  por  7  igual a  63\n",
      "9  por  8  igual a  72\n",
      "9  por  9  igual a  81\n",
      "9  por  10  igual a  90\n",
      "10  por  0  igual a  0\n",
      "10  por  1  igual a  10\n",
      "10  por  2  igual a  20\n",
      "10  por  3  igual a  30\n",
      "10  por  4  igual a  40\n",
      "10  por  5  igual a  50\n",
      "10  por  6  igual a  60\n",
      "10  por  7  igual a  70\n",
      "10  por  8  igual a  80\n",
      "10  por  9  igual a  90\n",
      "10  por  10  igual a  100\n"
     ]
    }
   ],
   "source": [
    "for i in range(11):\n",
    "    for j in range(11):\n",
    "        print (i,' por ',j,' igual a ',i*j)"
   ]
  },
  {
   "cell_type": "code",
   "execution_count": null,
   "metadata": {
    "collapsed": true
   },
   "outputs": [],
   "source": [
    "18 - "
   ]
  },
  {
   "cell_type": "code",
   "execution_count": null,
   "metadata": {
    "collapsed": true
   },
   "outputs": [],
   "source": []
  },
  {
   "cell_type": "markdown",
   "metadata": {},
   "source": [
    "18 - Aliens\n",
    "- Haz una lista de diez alienígenas, cada uno de los cuales tiene un color: 'rojo', 'verde' o 'azul'.\n",
    "- Puedes acortar esto a 'r', 'g' y 'b' si lo deseas, pero si eliges esta opción, debes incluir un comentario que explique qué representan r, g y b.\n",
    "- Los alienígenas rojos valen 5 puntos, los alienígenas verdes valen 10 puntos y los alienígenas azules valen 20 puntos.\n",
    "\n",
    "- Usa un bucle _for_ para determinar la cantidad de puntos que un jugador ganaría por destruir a todos los alienígenas en su lista."
   ]
  },
  {
   "cell_type": "code",
   "execution_count": null,
   "metadata": {
    "collapsed": true
   },
   "outputs": [],
   "source": []
  }
 ],
 "metadata": {
  "kernelspec": {
   "display_name": "Python 3",
   "language": "python",
   "name": "python3"
  },
  "language_info": {
   "codemirror_mode": {
    "name": "ipython",
    "version": 3
   },
   "file_extension": ".py",
   "mimetype": "text/x-python",
   "name": "python",
   "nbconvert_exporter": "python",
   "pygments_lexer": "ipython3",
   "version": "3.6.3"
  }
 },
 "nbformat": 4,
 "nbformat_minor": 1
}
